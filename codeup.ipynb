{
 "cells": [
  {
   "cell_type": "code",
   "execution_count": 1,
   "metadata": {},
   "outputs": [
    {
     "name": "stdout",
     "output_type": "stream",
     "text": [
      "12:1\n"
     ]
    }
   ],
   "source": [
    "H,M = map(int, input().split())\n",
    "\n",
    "print(H,M, sep=\":\")"
   ]
  }
 ],
 "metadata": {
  "interpreter": {
   "hash": "c4162e1dfb363683483abb1cbf12bddbc759bbe663f8f99b5dd6a3f888f3dfef"
  },
  "kernelspec": {
   "display_name": "Python 3.9.13 64-bit",
   "language": "python",
   "name": "python3"
  },
  "language_info": {
   "codemirror_mode": {
    "name": "ipython",
    "version": 3
   },
   "file_extension": ".py",
   "mimetype": "text/x-python",
   "name": "python",
   "nbconvert_exporter": "python",
   "pygments_lexer": "ipython3",
   "version": "3.9.13"
  },
  "orig_nbformat": 4
 },
 "nbformat": 4,
 "nbformat_minor": 2
}
